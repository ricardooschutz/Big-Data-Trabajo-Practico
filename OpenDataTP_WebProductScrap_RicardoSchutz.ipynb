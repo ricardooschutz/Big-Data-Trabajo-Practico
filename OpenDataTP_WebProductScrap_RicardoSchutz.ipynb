{
  "nbformat": 4,
  "nbformat_minor": 0,
  "metadata": {
    "colab": {
      "name": "OpenDataTP_WebProductScrap_RicardoSchutz.ipynb",
      "provenance": [],
      "collapsed_sections": [],
      "authorship_tag": "ABX9TyMTvJkdNPSvZFzmqfCScUvt",
      "include_colab_link": true
    },
    "kernelspec": {
      "name": "python3",
      "display_name": "Python 3"
    },
    "language_info": {
      "name": "python"
    }
  },
  "cells": [
    {
      "cell_type": "markdown",
      "metadata": {
        "id": "view-in-github",
        "colab_type": "text"
      },
      "source": [
        "<a href=\"https://colab.research.google.com/github/ricardooschutz/OpenData_TrabajoPractico/blob/main/OpenDataTP_WebProductScrap_RicardoSchutz.ipynb\" target=\"_parent\"><img src=\"https://colab.research.google.com/assets/colab-badge.svg\" alt=\"Open In Colab\"/></a>"
      ]
    },
    {
      "cell_type": "code",
      "source": [
        "from bs4 import BeautifulSoup\n",
        "import requests\n",
        "import pandas as pd"
      ],
      "metadata": {
        "id": "x72YH78jtLS8"
      },
      "execution_count": 89,
      "outputs": []
    },
    {
      "cell_type": "code",
      "source": [
        "url = 'https://www.roofingmegastore.co.uk/roofing-categories/pitched-roofing/roof-tiles.html'"
      ],
      "metadata": {
        "id": "gmAsGWrwtNZ1"
      },
      "execution_count": 90,
      "outputs": []
    },
    {
      "cell_type": "code",
      "source": [
        "#get request\n",
        "response = requests.get(url)"
      ],
      "metadata": {
        "id": "1GB4m9_Yxk-w"
      },
      "execution_count": 91,
      "outputs": []
    },
    {
      "cell_type": "code",
      "source": [
        "#obtener estado\n",
        "response.status_code"
      ],
      "metadata": {
        "colab": {
          "base_uri": "https://localhost:8080/"
        },
        "id": "HylP2Kiixr81",
        "outputId": "75ce6321-72a3-40f9-b36c-a72a0915126f"
      },
      "execution_count": 92,
      "outputs": [
        {
          "output_type": "execute_result",
          "data": {
            "text/plain": [
              "200"
            ]
          },
          "metadata": {},
          "execution_count": 92
        }
      ]
    },
    {
      "cell_type": "code",
      "source": [
        "#objeto soup\n",
        "soup = BeautifulSoup(response.content, 'html.parser')"
      ],
      "metadata": {
        "id": "AzqZBBqSxz8t"
      },
      "execution_count": 93,
      "outputs": []
    },
    {
      "cell_type": "code",
      "source": [
        "#llamada al contenido html\n",
        "soup"
      ],
      "metadata": {
        "id": "mXO90U4hyIf1"
      },
      "execution_count": null,
      "outputs": []
    },
    {
      "cell_type": "code",
      "source": [
        "#encontrar los resultados\n",
        "results = soup.find_all('a',{'class':'product-list__link gtmTrack0020'})"
      ],
      "metadata": {
        "id": "h723ySfY2pdl"
      },
      "execution_count": 45,
      "outputs": []
    },
    {
      "cell_type": "code",
      "source": [
        "len(results)"
      ],
      "metadata": {
        "colab": {
          "base_uri": "https://localhost:8080/"
        },
        "id": "jeEEGJzj3sBM",
        "outputId": "682d1e6c-e948-4b91-fb15-68ecf4f9cf8d"
      },
      "execution_count": 95,
      "outputs": [
        {
          "output_type": "execute_result",
          "data": {
            "text/plain": [
              "24"
            ]
          },
          "metadata": {},
          "execution_count": 95
        }
      ]
    },
    {
      "cell_type": "code",
      "source": [
        "product_name = []\n",
        "product_price = []\n",
        "product_price_m2 = []\n",
        " \n",
        "for i in range(1,16):\n",
        "  #website\n",
        "  website = 'https://www.roofingmegastore.co.uk/roofing-categories/pitched-roofing/roof-tiles.html?p=' + str(i)\n",
        "\n",
        "  #request\n",
        "  response = requests.get(url)\n",
        "\n",
        "  #soup object\n",
        "  soup = BeautifulSoup(response.content, 'html.parser')\n",
        "\n",
        "  #results\n",
        "  results = soup.find_all('a',{'class':'product-list__link gtmTrack0020'}) \n",
        "\n",
        "  #loop de resultados\n",
        "  for result in results:\n",
        "\n",
        "  #nombre del producto\n",
        "    try:\n",
        "      product_name.append(result.find('h4',{'class':'product-list__title'}).get_text())\n",
        "    except:\n",
        "      product_name.append('no disponible')\n",
        "\n",
        "  #precio unitario\n",
        "\n",
        "    try:\n",
        "      product_price.append(result.find('p',{'class':'final-price__price'}).get_text())\n",
        "    except:\n",
        "      product_price.append('no disponible')\n",
        "\n",
        "  #precio por m2\n",
        "    try:\n",
        "      product_price_m2.append(result.find('p',{'class':'m2-price__price'}).get_text())\n",
        "    except:\n",
        "      product_price_m2.append('no disponible')\n"
      ],
      "metadata": {
        "id": "6zHIl737oglM"
      },
      "execution_count": 96,
      "outputs": []
    },
    {
      "cell_type": "markdown",
      "source": [
        "##Crear data frame de pandas"
      ],
      "metadata": {
        "id": "Z6Cv2wH78U8L"
      }
    },
    {
      "cell_type": "code",
      "source": [
        "product_overview = pd.DataFrame({'Nombre': product_name, 'Precio':  product_price, 'Precio por m2':  product_price_m2 })"
      ],
      "metadata": {
        "id": "QEU9pSb_2O6U"
      },
      "execution_count": 97,
      "outputs": []
    },
    {
      "cell_type": "code",
      "source": [
        "product_overview"
      ],
      "metadata": {
        "colab": {
          "base_uri": "https://localhost:8080/",
          "height": 424
        },
        "id": "zIkILWjp2nDW",
        "outputId": "858d69d3-1941-45ac-df59-94eb471abba2"
      },
      "execution_count": 98,
      "outputs": [
        {
          "output_type": "execute_result",
          "data": {
            "text/plain": [
              "                                                Nombre      Precio  \\\n",
              "0    Redland Renown Tile - Concrete Tile - Smooth S...       £2.45   \n",
              "1    Marley Double Roman Concrete Roof Tiles (Pack ...     £63.67    \n",
              "2    Redland Regent Tile - Concrete Tile - Smooth F...       £2.57   \n",
              "3    Marley Acme Double Camber Clay Plain Tiles (Pa...     £13.33    \n",
              "4     Sandtoft Neo Pantile - Clay Tile - Antique Slate       £3.48   \n",
              "..                                                 ...         ...   \n",
              "355  Britmet - Slate 2000 Plus - Lightweight Metal ...      £14.37   \n",
              "356  Britmet - Ultratile Plus - Lightweight Metal R...      £14.37   \n",
              "357  Britmet - Ultratile Plus - Lightweight Metal R...      £14.37   \n",
              "358  Britmet - Villatile Plus - Lightweight Metal R...      £14.57   \n",
              "359  Britmet - Profile 49 Plus - Lightweight Metal ...      £14.96   \n",
              "\n",
              "     Precio por m2  \n",
              "0           £23.77  \n",
              "1    no disponible  \n",
              "2           £24.93  \n",
              "3    no disponible  \n",
              "4    no disponible  \n",
              "..             ...  \n",
              "355         £31.18  \n",
              "356         £31.33  \n",
              "357         £31.33  \n",
              "358         £32.78  \n",
              "359         £31.12  \n",
              "\n",
              "[360 rows x 3 columns]"
            ],
            "text/html": [
              "\n",
              "  <div id=\"df-d3034e37-39d2-43d8-bb63-20579dcf0c23\">\n",
              "    <div class=\"colab-df-container\">\n",
              "      <div>\n",
              "<style scoped>\n",
              "    .dataframe tbody tr th:only-of-type {\n",
              "        vertical-align: middle;\n",
              "    }\n",
              "\n",
              "    .dataframe tbody tr th {\n",
              "        vertical-align: top;\n",
              "    }\n",
              "\n",
              "    .dataframe thead th {\n",
              "        text-align: right;\n",
              "    }\n",
              "</style>\n",
              "<table border=\"1\" class=\"dataframe\">\n",
              "  <thead>\n",
              "    <tr style=\"text-align: right;\">\n",
              "      <th></th>\n",
              "      <th>Nombre</th>\n",
              "      <th>Precio</th>\n",
              "      <th>Precio por m2</th>\n",
              "    </tr>\n",
              "  </thead>\n",
              "  <tbody>\n",
              "    <tr>\n",
              "      <th>0</th>\n",
              "      <td>Redland Renown Tile - Concrete Tile - Smooth S...</td>\n",
              "      <td>£2.45</td>\n",
              "      <td>£23.77</td>\n",
              "    </tr>\n",
              "    <tr>\n",
              "      <th>1</th>\n",
              "      <td>Marley Double Roman Concrete Roof Tiles (Pack ...</td>\n",
              "      <td>£63.67</td>\n",
              "      <td>no disponible</td>\n",
              "    </tr>\n",
              "    <tr>\n",
              "      <th>2</th>\n",
              "      <td>Redland Regent Tile - Concrete Tile - Smooth F...</td>\n",
              "      <td>£2.57</td>\n",
              "      <td>£24.93</td>\n",
              "    </tr>\n",
              "    <tr>\n",
              "      <th>3</th>\n",
              "      <td>Marley Acme Double Camber Clay Plain Tiles (Pa...</td>\n",
              "      <td>£13.33</td>\n",
              "      <td>no disponible</td>\n",
              "    </tr>\n",
              "    <tr>\n",
              "      <th>4</th>\n",
              "      <td>Sandtoft Neo Pantile - Clay Tile - Antique Slate</td>\n",
              "      <td>£3.48</td>\n",
              "      <td>no disponible</td>\n",
              "    </tr>\n",
              "    <tr>\n",
              "      <th>...</th>\n",
              "      <td>...</td>\n",
              "      <td>...</td>\n",
              "      <td>...</td>\n",
              "    </tr>\n",
              "    <tr>\n",
              "      <th>355</th>\n",
              "      <td>Britmet - Slate 2000 Plus - Lightweight Metal ...</td>\n",
              "      <td>£14.37</td>\n",
              "      <td>£31.18</td>\n",
              "    </tr>\n",
              "    <tr>\n",
              "      <th>356</th>\n",
              "      <td>Britmet - Ultratile Plus - Lightweight Metal R...</td>\n",
              "      <td>£14.37</td>\n",
              "      <td>£31.33</td>\n",
              "    </tr>\n",
              "    <tr>\n",
              "      <th>357</th>\n",
              "      <td>Britmet - Ultratile Plus - Lightweight Metal R...</td>\n",
              "      <td>£14.37</td>\n",
              "      <td>£31.33</td>\n",
              "    </tr>\n",
              "    <tr>\n",
              "      <th>358</th>\n",
              "      <td>Britmet - Villatile Plus - Lightweight Metal R...</td>\n",
              "      <td>£14.57</td>\n",
              "      <td>£32.78</td>\n",
              "    </tr>\n",
              "    <tr>\n",
              "      <th>359</th>\n",
              "      <td>Britmet - Profile 49 Plus - Lightweight Metal ...</td>\n",
              "      <td>£14.96</td>\n",
              "      <td>£31.12</td>\n",
              "    </tr>\n",
              "  </tbody>\n",
              "</table>\n",
              "<p>360 rows × 3 columns</p>\n",
              "</div>\n",
              "      <button class=\"colab-df-convert\" onclick=\"convertToInteractive('df-d3034e37-39d2-43d8-bb63-20579dcf0c23')\"\n",
              "              title=\"Convert this dataframe to an interactive table.\"\n",
              "              style=\"display:none;\">\n",
              "        \n",
              "  <svg xmlns=\"http://www.w3.org/2000/svg\" height=\"24px\"viewBox=\"0 0 24 24\"\n",
              "       width=\"24px\">\n",
              "    <path d=\"M0 0h24v24H0V0z\" fill=\"none\"/>\n",
              "    <path d=\"M18.56 5.44l.94 2.06.94-2.06 2.06-.94-2.06-.94-.94-2.06-.94 2.06-2.06.94zm-11 1L8.5 8.5l.94-2.06 2.06-.94-2.06-.94L8.5 2.5l-.94 2.06-2.06.94zm10 10l.94 2.06.94-2.06 2.06-.94-2.06-.94-.94-2.06-.94 2.06-2.06.94z\"/><path d=\"M17.41 7.96l-1.37-1.37c-.4-.4-.92-.59-1.43-.59-.52 0-1.04.2-1.43.59L10.3 9.45l-7.72 7.72c-.78.78-.78 2.05 0 2.83L4 21.41c.39.39.9.59 1.41.59.51 0 1.02-.2 1.41-.59l7.78-7.78 2.81-2.81c.8-.78.8-2.07 0-2.86zM5.41 20L4 18.59l7.72-7.72 1.47 1.35L5.41 20z\"/>\n",
              "  </svg>\n",
              "      </button>\n",
              "      \n",
              "  <style>\n",
              "    .colab-df-container {\n",
              "      display:flex;\n",
              "      flex-wrap:wrap;\n",
              "      gap: 12px;\n",
              "    }\n",
              "\n",
              "    .colab-df-convert {\n",
              "      background-color: #E8F0FE;\n",
              "      border: none;\n",
              "      border-radius: 50%;\n",
              "      cursor: pointer;\n",
              "      display: none;\n",
              "      fill: #1967D2;\n",
              "      height: 32px;\n",
              "      padding: 0 0 0 0;\n",
              "      width: 32px;\n",
              "    }\n",
              "\n",
              "    .colab-df-convert:hover {\n",
              "      background-color: #E2EBFA;\n",
              "      box-shadow: 0px 1px 2px rgba(60, 64, 67, 0.3), 0px 1px 3px 1px rgba(60, 64, 67, 0.15);\n",
              "      fill: #174EA6;\n",
              "    }\n",
              "\n",
              "    [theme=dark] .colab-df-convert {\n",
              "      background-color: #3B4455;\n",
              "      fill: #D2E3FC;\n",
              "    }\n",
              "\n",
              "    [theme=dark] .colab-df-convert:hover {\n",
              "      background-color: #434B5C;\n",
              "      box-shadow: 0px 1px 3px 1px rgba(0, 0, 0, 0.15);\n",
              "      filter: drop-shadow(0px 1px 2px rgba(0, 0, 0, 0.3));\n",
              "      fill: #FFFFFF;\n",
              "    }\n",
              "  </style>\n",
              "\n",
              "      <script>\n",
              "        const buttonEl =\n",
              "          document.querySelector('#df-d3034e37-39d2-43d8-bb63-20579dcf0c23 button.colab-df-convert');\n",
              "        buttonEl.style.display =\n",
              "          google.colab.kernel.accessAllowed ? 'block' : 'none';\n",
              "\n",
              "        async function convertToInteractive(key) {\n",
              "          const element = document.querySelector('#df-d3034e37-39d2-43d8-bb63-20579dcf0c23');\n",
              "          const dataTable =\n",
              "            await google.colab.kernel.invokeFunction('convertToInteractive',\n",
              "                                                     [key], {});\n",
              "          if (!dataTable) return;\n",
              "\n",
              "          const docLinkHtml = 'Like what you see? Visit the ' +\n",
              "            '<a target=\"_blank\" href=https://colab.research.google.com/notebooks/data_table.ipynb>data table notebook</a>'\n",
              "            + ' to learn more about interactive tables.';\n",
              "          element.innerHTML = '';\n",
              "          dataTable['output_type'] = 'display_data';\n",
              "          await google.colab.output.renderOutput(dataTable, element);\n",
              "          const docLink = document.createElement('div');\n",
              "          docLink.innerHTML = docLinkHtml;\n",
              "          element.appendChild(docLink);\n",
              "        }\n",
              "      </script>\n",
              "    </div>\n",
              "  </div>\n",
              "  "
            ]
          },
          "metadata": {},
          "execution_count": 98
        }
      ]
    },
    {
      "cell_type": "markdown",
      "source": [
        "##Guardar en un Excel"
      ],
      "metadata": {
        "id": "nUGSx4pr7z1-"
      }
    },
    {
      "cell_type": "code",
      "source": [
        "product_overview.to_csv('tejas_precios_inglaterra.csv')"
      ],
      "metadata": {
        "id": "tN5nY9f169f5"
      },
      "execution_count": 110,
      "outputs": []
    }
  ]
}